{
 "cells": [
  {
   "cell_type": "code",
   "execution_count": 50,
   "metadata": {
    "collapsed": true
   },
   "outputs": [
    {
     "name": "stdout",
     "output_type": "stream",
     "text": [
      "(1682L, 943L) (1682L, 943L)"
     ]
    },
    {
     "name": "stdout",
     "output_type": "stream",
     "text": [
      "\n[[5 4 0 0 4]\n [3 0 0 0 3]\n [4 0 0 0 0]\n [3 0 0 0 0]\n [3 0 0 0 0]]\nAverage rating for movie 1 (Toy Story): 4.520679 / 5\n"
     ]
    }
   ],
   "source": [
    "import scipy.io as sio\n",
    "import numpy as np\n",
    "import matplotlib.pyplot as plt\n",
    "#  Y is a 1682x943 matrix, containing ratings (1-5) of 1682 movies on \n",
    "#  943 users\n",
    "#  R is a 1682x943 matrix, where R(i,j) = 1 if and only if user j gave a\n",
    "#  rating to movie i\n",
    "data = sio.loadmat('ex8_movies.mat')\n",
    "\n",
    "Y = data['Y'] #[1682*943] movies * users\n",
    "R = data['R'] #[1682*943] 0 or 1\n",
    "print Y.shape,R.shape\n",
    "print Y[0:5,0:5]\n",
    "print 'Average rating for movie 1 (Toy Story): %f / 5'\\\n",
    "      %(np.mean(Y[0,R[0,:]]))\n",
    "\n",
    "\n",
    "\n"
   ]
  },
  {
   "cell_type": "code",
   "execution_count": 51,
   "metadata": {},
   "outputs": [
    {
     "name": "stdout",
     "output_type": "stream",
     "text": [
      "(1682L, 10L) (943L, 10L)\n[[1682]] [[943]] [[10]]\n"
     ]
    }
   ],
   "source": [
    "#load movies data set\n",
    "params = sio.loadmat('ex8_movieParams.mat')\n",
    "X = params['X']\n",
    "Theta = params['Theta']\n",
    "num_users = params['num_users']\n",
    "num_movies = params['num_movies']\n",
    "num_features = params['num_features']\n",
    "print X.shape,Theta.shape\n",
    "print num_movies,num_users,num_features\n",
    "\n"
   ]
  },
  {
   "cell_type": "code",
   "execution_count": 52,
   "metadata": {},
   "outputs": [
    {
     "name": "stdout",
     "output_type": "stream",
     "text": [
      "reg = 0,this value should be about 22.22\n22.2246037257\nreg = 1.5,this value should be about 31.34\n31.3440562443\n"
     ]
    }
   ],
   "source": [
    "#compute the cost\n",
    "#note:no x0 = 1, no 1/m  !!!!!!!!\n",
    "def computeCost(x,theta,y,r,reg=0):\n",
    "    j = 0\n",
    "    x_grad = np.zeros_like(x)\n",
    "    theta_grad = np.zeros_like(theta)\n",
    "    \n",
    "    j_temp = (x.dot(theta.T) - y)**2\n",
    "    j = 0.5 * np.sum(j_temp[r==1]) + 0.5 * reg * np.sum(theta**2) \\\n",
    "        + 0.5 * reg * np.sum(x**2) \n",
    "    \n",
    "    x_grad = np.dot(((x.dot(theta.T)-y)*r),theta) + reg * x\n",
    "    theta_grad = np.dot(((x.dot(theta.T)-y)*r).T,x) + reg * theta\n",
    "    \n",
    "    return j,x_grad,theta_grad\n",
    "    \n",
    "#Reduce the data set size so that this runs faster\n",
    "nu, nm, nf = 4, 5, 3\n",
    "X1 = X[0:nm,0:nf]\n",
    "Theta1 = Theta[0:nu,0:nf]\n",
    "Y1 = Y[0:nm,0:nu]\n",
    "R1 = R[0:nm,0:nu]\n",
    "\n",
    "#check the cost\n",
    "J,x_g,theta_g = computeCost(X1,Theta1,Y1,R1,0)\n",
    "print\"reg = 0,this value should be about 22.22\\n\",J\n",
    "\n",
    "J2,x_g2,theta_g2 = computeCost(X1,Theta1,Y1,R1,1.5)\n",
    "print\"reg = 1.5,this value should be about 31.34\\n\",J2"
   ]
  },
  {
   "cell_type": "code",
   "execution_count": 53,
   "metadata": {},
   "outputs": [],
   "source": [
    "#compute numerical_gradient\n",
    "def eval_numerical_gradient(f, x, verbose=True, h=0.00001):\n",
    "    \"\"\" \n",
    "    a naive implementation of numerical gradient of f at x \n",
    "    - f should be a function that takes a single argument\n",
    "    - x is the point (numpy array) to evaluate the gradient at\n",
    "    \"\"\" \n",
    "    \n",
    "    fx = f(x) # evaluate function value at original point\n",
    "    grad = np.zeros_like(x)\n",
    "    # iterate over all indexes in x\n",
    "    it = np.nditer(x, flags=['multi_index'], op_flags=['readwrite'])\n",
    "    while not it.finished:\n",
    "        \n",
    "        # evaluate function at x+h\n",
    "        ix = it.multi_index\n",
    "        oldval = x[ix]\n",
    "        x[ix] = oldval + h # increment by h\n",
    "        fxph = f(x) # evalute f(x + h)\n",
    "        x[ix] = oldval - h\n",
    "        fxmh = f(x) # evaluate f(x - h)\n",
    "        x[ix] = oldval # restore\n",
    "        \n",
    "        # compute the partial derivative with centered formula\n",
    "        grad[ix] = (fxph - fxmh) / (2 * h) # the slope\n",
    "        if verbose:\n",
    "          print ix, grad[ix]\n",
    "        it.iternext() # step to next dimension\n",
    "    return grad\n",
    "\n",
    "def rel_error(x, y):\n",
    "  \"\"\" returns relative error \"\"\"\n",
    "  return np.max(np.abs(x - y) / (np.maximum(1e-8, np.abs(x) + np.abs(y))))\n"
   ]
  },
  {
   "cell_type": "code",
   "execution_count": 44,
   "metadata": {},
   "outputs": [
    {
     "name": "stdout",
     "output_type": "stream",
     "text": [
      "[[  0.14401176  -6.22590369  10.0516782    0.14401176  -6.22590369\n   10.0516782 ]\n [  4.45625126   2.03223863   7.35329766   4.45625126   2.03223863\n    7.35329766]\n [  0.11515446  -9.74467008  -1.91337529   0.11515446  -9.74467008\n   -1.91337529]\n [  0.90141124  -1.28554704   1.55376368   0.90141124  -1.28554704\n    1.55376368]]\n[[ -0.12785057  -0.73651273  -1.21583757  -0.12785057  -0.73651273\n   -1.21583757]\n [ -2.72597491   4.66380798   0.23347243  -2.72597491   4.66380798\n    0.23347243]\n [ -0.42229439  -0.40927681 -11.5753487   -0.42229439  -0.40927681\n  -11.5753487 ]\n [  3.61809669  12.26402186   7.18521682   3.61809669  12.26402186\n    7.18521682]\n [  1.15495755  -1.53477221  -2.08059821   1.15495755  -1.53477221\n   -2.08059821]]\nx max relative error: 4.429443e-10\ntheta max relative error: 4.670187e-10\n"
     ]
    }
   ],
   "source": [
    "#check the gradient \n",
    "#create the small data\n",
    "\n",
    "x_t = np.random.rand(4,3)\n",
    "theta_t = np.random.rand(5,3)\n",
    "y_t = x_t.dot(theta_t.T) #4,5\n",
    "y_t[np.random.rand(*y_t.shape)>0.5] = 0\n",
    "r_t = np.zeros_like(y_t)\n",
    "r_t[y_t != 0] = 1\n",
    "#print y_t,r_t\n",
    "\n",
    "X_t = np.random.randn(*x_t.shape)\n",
    "Theta_t = np.random.randn(*theta_t.shape)\n",
    "nu_t = 5\n",
    "nm_t = 4\n",
    "nf_t = 3\n",
    "\n",
    "#j,x_grad,theta_grad = computeCost(X1,Theta1,Y1,R1,0)\n",
    "#f = lambda W:computeCost(X1,Theta1,Y1,R1,0)[0]\n",
    "j,x_grad,theta_grad = computeCost(X_t,Theta_t,y_t,r_t,1.5)\n",
    "f = lambda W:computeCost(X_t,Theta_t,y_t,r_t,1.5)[0] #f = J(x)\n",
    "x_grad1 = eval_numerical_gradient(f,X_t , verbose=False, h=0.00001)\n",
    "theta_grad1 = eval_numerical_gradient(f, Theta_t, verbose=False, h=0.00001)\n",
    "display_X = np.hstack((x_grad,x_grad1))\n",
    "print display_X\n",
    "display_Theta = np.hstack((theta_grad,theta_grad1))\n",
    "print display_Theta\n",
    "\n",
    "print '%s max relative error: %e' % ('x', rel_error(x_grad, x_grad1))\n",
    "print '%s max relative error: %e' % \\\n",
    "      ('theta', rel_error(theta_grad, theta_grad1))\n",
    "\n"
   ]
  },
  {
   "cell_type": "code",
   "execution_count": 54,
   "metadata": {},
   "outputs": [
    {
     "name": "stdout",
     "output_type": "stream",
     "text": [
      "['Toy Story (1995) ', 'GoldenEye (1995) ', 'Four Rooms (1995) ', 'Get Shorty (1995) ', 'Copycat (1995) ']\n"
     ]
    }
   ],
   "source": [
    "def load_data(filename):\n",
    "    movieList = []\n",
    "    file = open(filename)\n",
    "    for line in file.readlines():\n",
    "        lineArr = line.strip().split(' ')\n",
    "        col_num = len(lineArr)\n",
    "        temp = ''\n",
    "        for i in xrange(col_num):\n",
    "            if i==0:\n",
    "                continue\n",
    "            temp= temp + lineArr[i] + ' '\n",
    "        movieList.append(temp)\n",
    "    return movieList\n",
    "\n",
    "movieList = load_data('movie_ids.txt')\n",
    "print movieList[:5]\n"
   ]
  },
  {
   "cell_type": "code",
   "execution_count": 55,
   "metadata": {},
   "outputs": [
    {
     "name": "stdout",
     "output_type": "stream",
     "text": [
      "Rated 4 for Toy Story (1995) \nRated 3 for Twelve Monkeys (1995) \nRated 5 for Usual Suspects, The (1995) \nRated 4 for Outbreak (1995) \nRated 5 for Shawshank Redemption, The (1994) \nRated 3 for While You Were Sleeping (1995) \nRated 5 for Forrest Gump (1994) \nRated 2 for Silence of the Lambs, The (1991) \nRated 4 for Alien (1979) \nRated 5 for Die Hard 2 (1990) \nRated 5 for Sphere (1998) \n"
     ]
    }
   ],
   "source": [
    "#Entering ratings for a new user\n",
    "my_ratings = np.zeros((1682,1))\n",
    "my_ratings[0] = 4\n",
    "my_ratings[97] = 2\n",
    "my_ratings[6] = 3\n",
    "my_ratings[11]= 5\n",
    "my_ratings[53] = 4\n",
    "my_ratings[63]= 5\n",
    "my_ratings[65]= 3\n",
    "my_ratings[68] = 5\n",
    "my_ratings[182] = 4\n",
    "my_ratings[225] = 5\n",
    "my_ratings[354]= 5\n",
    "for i in range(1682):\n",
    "    if my_ratings[i]>0:\n",
    "        print \"Rated %d for %s\" %(my_ratings[i],movieList[i])\n",
    "\n",
    "\n",
    "\n",
    "\n"
   ]
  },
  {
   "cell_type": "code",
   "execution_count": 60,
   "metadata": {},
   "outputs": [
    {
     "name": "stdout",
     "output_type": "stream",
     "text": [
      "(1682L, 944L) (1682L, 944L)\n(1682L, 10L)\n(944L, 10L)\n"
     ]
    }
   ],
   "source": [
    "#Learning Movie Ratings\n",
    "\n",
    "#Add our own ratings to the data matrix\n",
    "YY = np.hstack((my_ratings,Y))\n",
    "RR = np.hstack((my_ratings!=0,R))\n",
    "print YY.shape,RR.shape\n",
    "#Normalize Ratings\n",
    "\n",
    "def normalizeRatings(y,r):\n",
    "    m,n = y.shape\n",
    "    ymean = np.zeros((m,1))\n",
    "    ynorm = np.zeros_like(y)\n",
    "    for i in xrange(m):\n",
    "        idx = np.where(r[i,:]==1)\n",
    "        ymean[i] = np.mean(y[i,idx])\n",
    "        ynorm[i,idx] = y[i,idx] - ymean[i]\n",
    "        \n",
    "    return ymean,ynorm\n",
    "    \n",
    "Ymean,Ynorm = normalizeRatings(YY,RR)\n",
    "\n",
    "num_users1 = YY.shape[1]\n",
    "num_movies1 = YY.shape[0]\n",
    "num_features1 = 10\n",
    "#Set Initial Parameters (Theta, X)\n",
    "XX = np.random.randn(num_movies1,num_features1)\n",
    "TTheta = np.random.randn(num_users1,num_features1)\n",
    "print XX.shape\n",
    "print TTheta.shape\n",
    "\n",
    "\n",
    "\n",
    "\n",
    "\n",
    "\n",
    "\n"
   ]
  },
  {
   "cell_type": "code",
   "execution_count": 69,
   "metadata": {},
   "outputs": [
    {
     "name": "stdout",
     "output_type": "stream",
     "text": [
      "Warning: Maximum number of iterations has been exceeded.\n         Current function value: 27769.265138\n         Iterations: 100\n         Function evaluations: 152\n         Gradient evaluations: 152\n(1682L, 10L) (944L, 10L)\n(1682L, 944L)\n[ 3.89489124  3.56569854  3.25036093 ...,  1.99989186  2.99999858\n  3.00004241]\nfavorite 1 score is 5,for:Return of the Jedi (1983) \nfavorite 2 score is 5,for:Star Wars (1977) \nfavorite 3 score is 5,for:Prefontaine (1997) \n"
     ]
    }
   ],
   "source": [
    "from scipy import optimize\n",
    "\n",
    "#we use the scipy.optimize.fmin_cg,so we need to change the \n",
    "#function computeCost(),beacause x must be 1-D\n",
    "\n",
    "args = (Ynorm,RR,num_users1,num_movies1,num_features1,1.5)\n",
    "params = np.hstack((XX.ravel(),TTheta.ravel())).ravel()\n",
    "\n",
    "def Cost(params,*args):\n",
    "    '''now params is 1-D,include [x,theta]'''\n",
    "    y,r,nu,nm,nf,reg = args\n",
    "    j = 0\n",
    "    x = params[0:nm*nf].reshape(nm,nf)\n",
    "    theta = params[nm*nf:].reshape(nu,nf)\n",
    "    \n",
    "    j_temp = (x.dot(theta.T) - y)**2\n",
    "    j = 0.5 * np.sum(j_temp[r==1]) + 0.5 * reg * np.sum(theta**2) \\\n",
    "        + 0.5 * reg * np.sum(x**2) \n",
    "    \n",
    "    return j\n",
    "\n",
    "def grad(params,*args):\n",
    "    y,r,nu,nm,nf,reg = args\n",
    "    #unfold into x and theta\n",
    "    x = params[0:nm*nf].reshape(nm,nf)\n",
    "    theta = params[nm*nf:].reshape(nu,nf)\n",
    "    x_grad = np.zeros_like(x)\n",
    "    theta_grad = np.zeros_like(theta)\n",
    "    x_grad = np.dot(((x.dot(theta.T)-y)*r),theta) + reg * x\n",
    "    theta_grad = np.dot(((x.dot(theta.T)-y)*r).T,x) + reg * theta\n",
    "    #fold the x_grad and theta_grad\n",
    "    g = np.hstack((x_grad.ravel(),theta_grad.ravel())).ravel()\n",
    "    return g\n",
    "\n",
    "    \n",
    "res = optimize.fmin_cg(Cost,x0=params,fprime=grad,args=args,maxiter=100)\n",
    "#get the bestX,bestTheta\n",
    "\n",
    "bestX = res[0:num_movies1*num_features1].reshape(num_movies1,num_features1)\n",
    "bestTheta = res[num_movies1*num_features1:].reshape(num_users1,num_features1)\n",
    "\n",
    "\n",
    "print bestX.shape,bestTheta.shape\n",
    "\n",
    "score = bestX.dot(bestTheta.T) + Ymean\n",
    "\n",
    "my_score = score[:,0]  #line 1 is my scoce\n",
    "print score.shape\n",
    "print my_score[:5]\n",
    "sort_index = my_score.argsort()\n",
    "favorite = 3\n",
    "for i in xrange(favorite):\n",
    "    print \"favorite %d score is %d,for:%s\" \\\n",
    "          %(i+1,my_score[sort_index[-(i+1)]],movieList[sort_index[-(i+1)]])"
   ]
  },
  {
   "cell_type": "code",
   "execution_count": 49,
   "metadata": {},
   "outputs": [
    {
     "name": "stdout",
     "output_type": "stream",
     "text": [
      "Optimization terminated successfully.\n         Current function value: 1.617021\n         Iterations: 4\n         Function evaluations: 8\n         Gradient evaluations: 8\n[-1.80851064 -0.25531915]\n"
     ]
    }
   ],
   "source": [
    "#an example of optimize\n",
    "args = (2, 3, 7, 8, 9, 10)  # parameter values\n",
    "def f(x, *args):\n",
    "    \n",
    "    u, v = x\n",
    "    a, b, c, d, e, f = args\n",
    "    return a*u**2 + b*u*v + c*v**2 + d*u + e*v + f\n",
    "def gradf(x, *args):\n",
    "    u, v = x\n",
    "    a, b, c, d, e, f = args\n",
    "    gu = 2*a*u + b*v + d     # u-component of the gradient\n",
    "    gv = b*u + 2*c*v + e     # v-component of the gradient\n",
    "    return np.asarray((gu, gv))\n",
    "x0 = np.asarray((0, 0))  # Initial guess.\n",
    "from scipy import optimize\n",
    "res1 = optimize.fmin_cg(f, x0, fprime=gradf, args=args)\n",
    "print res1"
   ]
  },
  {
   "cell_type": "code",
   "execution_count": 70,
   "metadata": {},
   "outputs": [
    {
     "name": "stdout",
     "output_type": "stream",
     "text": [
      "[0 3 2 4 1 5]\nfavorite 1 score is 6,for f\nfavorite 2 score is 5,for b\nfavorite 3 score is 4,for e\n"
     ]
    }
   ],
   "source": [
    "y = np.array([1,5,3,2,4,6])\n",
    "yy = ['a','b','c','d','e','f']\n",
    "index = np.argsort(y)\n",
    "print index\n",
    "for i in xrange(3):\n",
    "    print \"favorite %d score is %d,for %s\" \\\n",
    "          %(i+1,y[index[-(i+1)]],yy[index[-(i+1)]])\n"
   ]
  },
  {
   "cell_type": "code",
   "execution_count": null,
   "metadata": {},
   "outputs": [],
   "source": []
  }
 ],
 "metadata": {
  "kernelspec": {
   "display_name": "Python 2",
   "language": "python",
   "name": "python2"
  },
  "language_info": {
   "codemirror_mode": {
    "name": "ipython",
    "version": 2
   },
   "file_extension": ".py",
   "mimetype": "text/x-python",
   "name": "python",
   "nbconvert_exporter": "python",
   "pygments_lexer": "ipython2",
   "version": "2.7.6"
  }
 },
 "nbformat": 4,
 "nbformat_minor": 0
}
