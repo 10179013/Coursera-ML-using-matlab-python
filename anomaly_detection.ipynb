{
 "cells": [
  {
   "cell_type": "code",
   "execution_count": 2,
   "metadata": {
    "collapsed": true
   },
   "outputs": [
    {
     "name": "stdout",
     "output_type": "stream",
     "text": [
      "(307L, 2L) (307L, 2L) (307L, 1L)\n[[ 13.04681517  14.74115241]\n [ 13.40852019  13.7632696 ]\n [ 14.19591481  15.85318113]\n [ 14.91470077  16.17425987]\n [ 13.57669961  14.04284944]]\n[[0]\n [0]\n [0]\n [0]\n [0]]\n"
     ]
    },
    {
     "data": {
      "image/png": "[encoded data removed]",
      "text/plain": [
       "<matplotlib.figure.Figure at 0x98df780>"
      ]
     },
     "metadata": {},
     "output_type": "display_data"
    }
   ],
   "source": [
    "#load data set \n",
    "import scipy.io as sio\n",
    "import numpy as np\n",
    "import matplotlib.pyplot as plt\n",
    "\n",
    "data = sio.loadmat('ex8data1.mat')\n",
    "X = data['X']\n",
    "Xval = data['Xval']\n",
    "yval = data['yval']\n",
    "print X.shape,Xval.shape,yval.shape\n",
    "print X[:5]\n",
    "print yval[:5]\n",
    "\n",
    "plt.plot(X[:,0],X[:,1],'bx')\n",
    "plt.xlim(0, 30)\n",
    "plt.ylim(0, 30)\n",
    "plt.xlabel('Latency (ms)')\n",
    "plt.ylabel('Throughput (mb/s)')\n",
    "plt.show()\n",
    "\n",
    "\n"
   ]
  },
  {
   "cell_type": "code",
   "execution_count": 3,
   "metadata": {},
   "outputs": [
    {
     "name": "stdout",
     "output_type": "stream",
     "text": [
      "(1L, 2L) (1L, 2L)\n[[ 14.11222578  14.99771051]] [[ 1.83263141  1.70974533]]\n[[ 0.06470829]\n [ 0.05030417]\n [ 0.07245035]\n [ 0.05031575]\n [ 0.06368497]]\n"
     ]
    },
    {
     "name": "stdout",
     "output_type": "stream",
     "text": [
      "[[ 0.04163207]\n [ 0.08190901]\n [ 0.04071578]\n [ 0.06190003]\n [ 0.07118676]]\n"
     ]
    }
   ],
   "source": [
    "#高斯分布\n",
    "from scipy import stats\n",
    "\n",
    "def estimateGaussian(x):\n",
    "    #train set x fit the mu,sigma2\n",
    "    m,n = x.shape\n",
    "    mu = np.mean(x,axis=0).reshape(1,-1)\n",
    "    #sigma2 = np.sum(np.square(x - mu),axis=0).reshape(1,-1) / m\n",
    "    sigma2 = np.var(x,axis=0).reshape(1,-1)\n",
    "    \n",
    "    return mu,sigma2\n",
    "    \n",
    "def p(x,mu,sigma2):\n",
    "    #x is a new example:[m*n]\n",
    "    m,n = x.shape\n",
    "    p_list=[]\n",
    "    \n",
    "    for j in xrange(m):\n",
    "        p = 1\n",
    "        for i in xrange(n):\n",
    "            #p *= np.exp(-np.power((x[j, i] - mu[0, i]), 2) \\\n",
    "             #       / (2 * sigma2[0, i]**2)) \\\n",
    "             #/(np.sqrt(2 * np.pi * sigma2[0, i]))\n",
    "            p *= stats.norm.pdf(x[j,i], mu[0,i], np.sqrt(sigma2[0,i]))\n",
    "            # stats.norm.pdf(x,mean,sigma)\n",
    "        p_list.append(p)\n",
    "    p_array = np.array(p_list).reshape(-1,1)\n",
    "    return p_array\n",
    "\n",
    "mu,sigma2 = estimateGaussian(X)\n",
    "print mu.shape,sigma2.shape\n",
    "print mu,sigma2\n",
    "\n",
    "p_train = p(X,mu,sigma2)\n",
    "print p_train[:5]\n",
    "\n",
    "p_val = p(Xval,mu,sigma2)\n",
    "print p_val[:5]\n"
   ]
  },
  {
   "cell_type": "code",
   "execution_count": 4,
   "metadata": {},
   "outputs": [],
   "source": [
    "#cross validation for select threshold\n",
    "\n",
    "def selectThreshold(y,pval):\n",
    "    bestEpsilon = 0 \n",
    "    bestF1 = 0\n",
    "    \n",
    "    stepSize = (np.max(pval) - np.min(pval)) / 1000\n",
    "    \n",
    "    for epsilon in np.arange(np.min(pval), np.max(pval), stepSize):\n",
    "        predictions = (pval < epsilon)\n",
    "        \n",
    "        fp = np.sum((predictions==1) & (y==0))\n",
    "        fn = np.sum((predictions==0) & (y==1))\n",
    "        tp = np.sum((predictions==1) & (y==1))\n",
    "\n",
    "        if tp + fp == 0:\n",
    "            precision = 0\n",
    "        else:\n",
    "            precision = float(tp) / (tp + fp)  #note!!!!float!!! \n",
    "        if tp + fn == 0:\n",
    "            recall = 0\n",
    "        else:\n",
    "            recall = float(tp) / (tp + fn)\n",
    "        \n",
    "        if precision + recall == 0:\n",
    "            F1 = 0\n",
    "        else:\n",
    "            F1 = 2.0 * precision * recall / (precision + recall) \n",
    "        if F1 > bestF1:\n",
    "            bestF1 = F1\n",
    "            bestEpsilon = epsilon\n",
    "    \n",
    "    return bestEpsilon,bestF1\n",
    "        \n",
    "    \n",
    "    "
   ]
  },
  {
   "cell_type": "code",
   "execution_count": 5,
   "metadata": {},
   "outputs": [
    {
     "name": "stdout",
     "output_type": "stream",
     "text": [
      "Best epsilon found using cross-validation: 8.990853e-05\nBest F1 on Cross Validation Set:  0.875000\n(you should see a value epsilon of about 8.99e-05)\nyou should see a Best F1 value of  0.875000)\n"
     ]
    }
   ],
   "source": [
    "#test the cs\n",
    "epsilon,F1 = selectThreshold(yval,p_val)\n",
    "print \"Best epsilon found using cross-validation: %e\"%(epsilon)\n",
    "print \"Best F1 on Cross Validation Set:  %f\"%(F1)\n",
    "print \"(you should see a value epsilon of about 8.99e-05)\"\n",
    "print \"you should see a Best F1 value of  0.875000)\"\n"
   ]
  },
  {
   "cell_type": "code",
   "execution_count": 6,
   "metadata": {},
   "outputs": [
    {
     "data": {
      "image/png": "[encoded data removed]",
      "text/plain": [
       "<matplotlib.figure.Figure at 0x93d42b0>"
      ]
     },
     "metadata": {},
     "output_type": "display_data"
    }
   ],
   "source": [
    "#visualization:Draw a red circle around those outliers\n",
    "outliters = np.where(p_train < epsilon)\n",
    "\n",
    "plt.plot(X[:,0],X[:,1],'bx')\n",
    "plt.plot(X[outliters,0],X[outliters,1],'ro',lw=2, markersize=10,\\\n",
    "         fillstyle='none', markeredgewidth=1)\n",
    "plt.xlim(0, 30)\n",
    "plt.ylim(0, 30)\n",
    "plt.xlabel('Latency (ms)')\n",
    "plt.ylabel('Throughput (mb/s)')\n",
    "plt.show()"
   ]
  },
  {
   "cell_type": "code",
   "execution_count": 7,
   "metadata": {},
   "outputs": [
    {
     "name": "stdout",
     "output_type": "stream",
     "text": [
      "(1000L, 11L) (100L, 11L) (100L, 1L)\n[[  6.65311366  13.68970163  17.55284534 -11.93349739  -5.75640883\n   15.43592131 -12.13675197   8.22412257  -4.88402408   5.34933534\n   17.35137235]]\n"
     ]
    }
   ],
   "source": [
    "# load the data2\n",
    "\n",
    "import scipy.io as sio\n",
    "import numpy as np\n",
    "import matplotlib.pyplot as plt\n",
    "\n",
    "data1 = sio.loadmat('ex8data2.mat')\n",
    "X1 = data1['X']\n",
    "Xval1 = data1['Xval']\n",
    "yval1 = data1['yval']\n",
    "print X1.shape,Xval1.shape,yval1.shape\n",
    "print X1[:1]\n",
    "\n"
   ]
  },
  {
   "cell_type": "code",
   "execution_count": 30,
   "metadata": {},
   "outputs": [
    {
     "name": "stdout",
     "output_type": "stream",
     "text": [
      "(11L,) (11L, 11L) 60.9748937269 53.2057218642\n4.80014259158e+19\n"
     ]
    },
    {
     "name": "stdout",
     "output_type": "stream",
     "text": [
      "[[  2.96570877e-18]\n [  1.26751926e-18]]\n[[  2.05276720e-22]\n [  6.92566186e-18]]\n"
     ]
    }
   ],
   "source": [
    "# multivariate_normal 多元高斯分布\n",
    "from scipy import stats\n",
    "def get_mean_cov(x):\n",
    "    m,n = x.shape\n",
    "    mu = np.mean(x,axis=0)#平均值\n",
    "    Sigma = np.var(x, axis=0) #方差\n",
    "    #Sigma = np.diagflat(Sigma) #对角矩阵,[[1,0,0],[0,1,0],[0,0,1]]\n",
    "    Sigma = np.diag(Sigma)\n",
    "    detSigma = np.linalg.det(Sigma) #行列式\n",
    "    \n",
    "    return mu,Sigma,detSigma\n",
    "\n",
    "    \n",
    "def mul_P(x,mu,sigma,detSigma):\n",
    "    #x is vector =[n*1]\n",
    "    n = x.shape[0]\n",
    "    xx = x - mu #[n*1]\n",
    "    #dot点乘\n",
    "    p = np.exp(-0.5 * np.dot(xx.T.dot(np.linalg.pinv(sigma)), xx)) * \\\n",
    "            ((2*np.pi)**(-n/2) * (detSigma**(-0.5)))\n",
    "    return p\n",
    "    \n",
    "        \n",
    "mu1,Sigma,detSigma=get_mean_cov(X1)\n",
    "print mu1.shape,Sigma.shape,Sigma[0,0],Sigma[1,1]  #compute correct\n",
    "print detSigma #correct \n",
    "p_train1 = np.array([mul_P(x,mu1,Sigma,detSigma) for x in X1]).reshape(-1,1)\n",
    "p_val1 = np.array([mul_P(x,mu1,Sigma,detSigma) for x in Xval1]).reshape(-1,1)\n",
    "\n",
    "\n",
    "print p_train1[:2]\n",
    "print p_val1[:2]"
   ]
  },
  {
   "cell_type": "code",
   "execution_count": 29,
   "metadata": {},
   "outputs": [
    {
     "name": "stdout",
     "output_type": "stream",
     "text": [
      "Best epsilon found using cross-validation: 5.494348e-19\nBest F1 on Cross Validation Set:  0.615385\n(you should see a value epsilon of about 1.38e-18)\nyou should see a Best F1 value of  0.615385)\nOutliers found: 117\n"
     ]
    }
   ],
   "source": [
    "#test the cs\n",
    "epsilon1,F1_1 = selectThreshold(yval1,p_val1)\n",
    "print \"Best epsilon found using cross-validation: %e\"%(epsilon1)\n",
    "print \"Best F1 on Cross Validation Set:  %f\"%(F1_1)\n",
    "print \"(you should see a value epsilon of about 1.38e-18)\"\n",
    "print \"you should see a Best F1 value of  0.615385)\"\n",
    "\n",
    "print \"Outliers found: %d\"%(np.sum(p_train1 < epsilon1))\n",
    "\n"
   ]
  },
  {
   "cell_type": "code",
   "execution_count": 31,
   "metadata": {},
   "outputs": [],
   "source": [
    ""
   ]
  },
  {
   "cell_type": "code",
   "execution_count": null,
   "metadata": {},
   "outputs": [],
   "source": []
  }
 ],
 "metadata": {
  "kernelspec": {
   "display_name": "Python 2",
   "language": "python",
   "name": "python2"
  },
  "language_info": {
   "codemirror_mode": {
    "name": "ipython",
    "version": 2
   },
   "file_extension": ".py",
   "mimetype": "text/x-python",
   "name": "python",
   "nbconvert_exporter": "python",
   "pygments_lexer": "ipython2",
   "version": "2.7.6"
  }
 },
 "nbformat": 4,
 "nbformat_minor": 0
}
