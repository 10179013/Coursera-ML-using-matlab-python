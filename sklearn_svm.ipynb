{
 "cells": [
  {
   "cell_type": "code",
   "execution_count": 1,
   "metadata": {
    "collapsed": true
   },
   "outputs": [
    {
     "name": "stdout",
     "output_type": "stream",
     "text": [
      "predict [0 1]\nx= [[-1. -1.]\n [-1. -2.]\n [ 1.  1.]\n [ 1.  2.]]\nindex of x [0 1 2 3]\nnumber of every class [2 2]\n"
     ]
    }
   ],
   "source": [
    "from sklearn import svm\n",
    "X = [[-1,-1],[-1,-2],[1,1],[1,2]]\n",
    "y = [0,0,1,1]\n",
    "clf = svm.SVC()\n",
    "clf.fit(X,y)\n",
    "print 'predict',clf.predict([[0,-1],[2,2]])\n",
    "print 'x=',clf.support_vectors_  #support_vector\n",
    "print 'index of x',clf.support_     #index of the support_vertor\n",
    "print 'number of every class',clf.n_support_  #number of every calss\n",
    "\n",
    "\n",
    "\n"
   ]
  },
  {
   "cell_type": "code",
   "execution_count": 7,
   "metadata": {},
   "outputs": [
    {
     "data": {
      "text/plain": [
       "SVC(C=1.0, cache_size=200, class_weight=None, coef0=0.0,\n  decision_function_shape='ovo', degree=3, gamma='auto', kernel='rbf',\n  max_iter=-1, probability=False, random_state=None, shrinking=True,\n  tol=0.001, verbose=False)"
      ]
     },
     "execution_count": 7,
     "metadata": {},
     "output_type": "execute_result"
    }
   ],
   "source": [
    "X = [[0], [1], [2], [3]]\n",
    "Y = [0, 1, 2, 3]\n",
    "clf = svm.SVC(decision_function_shape='ovo') #one vs one \n",
    "clf.fit(X, Y)"
   ]
  },
  {
   "cell_type": "code",
   "execution_count": 8,
   "metadata": {},
   "outputs": [
    {
     "name": "stdout",
     "output_type": "stream",
     "text": [
      "one vs one  6\none vs rest 4\n"
     ]
    }
   ],
   "source": [
    "dec = clf.decision_function([[1]])\n",
    "print 'one vs one ',dec.shape[1] # 4 classes: 4*3/2 = 6\n",
    "clf.decision_function_shape = \"ovr\"\n",
    "dec = clf.decision_function([[1]])\n",
    "print 'one vs rest',dec.shape[1] # 4 classes"
   ]
  },
  {
   "cell_type": "code",
   "execution_count": null,
   "metadata": {},
   "outputs": [],
   "source": []
  }
 ],
 "metadata": {
  "kernelspec": {
   "display_name": "Python 2",
   "language": "python",
   "name": "python2"
  },
  "language_info": {
   "codemirror_mode": {
    "name": "ipython",
    "version": 2
   },
   "file_extension": ".py",
   "mimetype": "text/x-python",
   "name": "python",
   "nbconvert_exporter": "python",
   "pygments_lexer": "ipython2",
   "version": "2.7.6"
  }
 },
 "nbformat": 4,
 "nbformat_minor": 0
}
